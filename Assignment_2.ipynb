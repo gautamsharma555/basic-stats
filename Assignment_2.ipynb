{
  "nbformat": 4,
  "nbformat_minor": 0,
  "metadata": {
    "colab": {
      "provenance": []
    },
    "kernelspec": {
      "name": "python3",
      "display_name": "Python 3"
    },
    "language_info": {
      "name": "python"
    }
  },
  "cells": [
    {
      "cell_type": "code",
      "execution_count": null,
      "metadata": {
        "id": "mfiEXPr7T-nd"
      },
      "outputs": [],
      "source": [
        "import numpy as np\n",
        "import seaborn as sns\n",
        "import pandas as pd\n",
        "import matplotlib.pyplot as plt\n",
        "from scipy.stats import t"
      ]
    },
    {
      "cell_type": "code",
      "source": [
        "data = [1.13, 1.55, 1.43, 0.92, 1.25, 1.36, 1.32, 0.85, 1.07, 1.48, 1.20, 1.33, 1.18, 1.22, 1.29]\n",
        "n = len(data)"
      ],
      "metadata": {
        "id": "9QkSsLzoUGjK"
      },
      "execution_count": null,
      "outputs": []
    },
    {
      "cell_type": "code",
      "source": [
        "confidence_level = 0.99\n",
        "population_std_dev = 0.2"
      ],
      "metadata": {
        "id": "KVMRppkEUgxH"
      },
      "execution_count": null,
      "outputs": []
    },
    {
      "cell_type": "code",
      "source": [
        "sample_mean = np.mean(data)\n",
        "sample_std_dev = np.std(data, ddof=1)"
      ],
      "metadata": {
        "id": "bav0ouuWUsfo"
      },
      "execution_count": null,
      "outputs": []
    },
    {
      "cell_type": "code",
      "source": [
        "sample_mean"
      ],
      "metadata": {
        "colab": {
          "base_uri": "https://localhost:8080/"
        },
        "id": "8iEcsfKWU5WY",
        "outputId": "53071b9b-dfc5-4b71-84b5-0afe65b9cf67"
      },
      "execution_count": null,
      "outputs": [
        {
          "output_type": "execute_result",
          "data": {
            "text/plain": [
              "1.2386666666666666"
            ]
          },
          "metadata": {},
          "execution_count": 8
        }
      ]
    },
    {
      "cell_type": "code",
      "source": [
        "sample_std_dev"
      ],
      "metadata": {
        "colab": {
          "base_uri": "https://localhost:8080/"
        },
        "id": "WrHZqNimU-K-",
        "outputId": "946ebd9b-73c8-40ad-c934-af488c10e6aa"
      },
      "execution_count": null,
      "outputs": [
        {
          "output_type": "execute_result",
          "data": {
            "text/plain": [
              "0.19316412956959936"
            ]
          },
          "metadata": {},
          "execution_count": 9
        }
      ]
    },
    {
      "cell_type": "code",
      "source": [
        "degrees_of_freedom = n - 1\n",
        "t_critical = t.ppf(1 - (1 - confidence_level) / 2, degrees_of_freedom)\n",
        "margin_of_error_t = t_critical * (sample_std_dev / np.sqrt(n))\n",
        "ci_t = (sample_mean - margin_of_error_t, sample_mean + margin_of_error_t)"
      ],
      "metadata": {
        "id": "PlEr7G2HVAGM"
      },
      "execution_count": null,
      "outputs": []
    },
    {
      "cell_type": "code",
      "source": [
        "t_critical"
      ],
      "metadata": {
        "colab": {
          "base_uri": "https://localhost:8080/"
        },
        "id": "RjUOf7QiVJHb",
        "outputId": "6c8df1e2-f2a6-4f21-becd-4ce57d0093cd"
      },
      "execution_count": null,
      "outputs": [
        {
          "output_type": "execute_result",
          "data": {
            "text/plain": [
              "2.976842734370834"
            ]
          },
          "metadata": {},
          "execution_count": 11
        }
      ]
    },
    {
      "cell_type": "code",
      "source": [
        "margin_of_error_t"
      ],
      "metadata": {
        "colab": {
          "base_uri": "https://localhost:8080/"
        },
        "id": "wyu4YWL-VM50",
        "outputId": "6fc6dede-4fd0-4d93-bbbb-9d84a3fb5dbf"
      },
      "execution_count": null,
      "outputs": [
        {
          "output_type": "execute_result",
          "data": {
            "text/plain": [
              "0.14846932822817596"
            ]
          },
          "metadata": {},
          "execution_count": 12
        }
      ]
    },
    {
      "cell_type": "code",
      "source": [
        "ci_t"
      ],
      "metadata": {
        "colab": {
          "base_uri": "https://localhost:8080/"
        },
        "id": "bgXNwaAMVPom",
        "outputId": "3ce3f844-8358-4401-f369-9c0f1756ddb8"
      },
      "execution_count": null,
      "outputs": [
        {
          "output_type": "execute_result",
          "data": {
            "text/plain": [
              "(1.0901973384384906, 1.3871359948948425)"
            ]
          },
          "metadata": {},
          "execution_count": 13
        }
      ]
    },
    {
      "cell_type": "code",
      "source": [
        "z_critical = 2.576\n",
        "margin_of_error_z = z_critical * (population_std_dev / np.sqrt(n))\n",
        "ci_z = (sample_mean - margin_of_error_z, sample_mean + margin_of_error_z)\n"
      ],
      "metadata": {
        "id": "hx5gRBD9VRWI"
      },
      "execution_count": null,
      "outputs": []
    },
    {
      "cell_type": "code",
      "source": [
        "z_critical"
      ],
      "metadata": {
        "colab": {
          "base_uri": "https://localhost:8080/"
        },
        "id": "wrF-qAPgVW0D",
        "outputId": "44fdea01-6c0a-4505-b973-b0da66841c3c"
      },
      "execution_count": null,
      "outputs": [
        {
          "output_type": "execute_result",
          "data": {
            "text/plain": [
              "2.576"
            ]
          },
          "metadata": {},
          "execution_count": 16
        }
      ]
    },
    {
      "cell_type": "code",
      "source": [
        "margin_of_error_z"
      ],
      "metadata": {
        "colab": {
          "base_uri": "https://localhost:8080/"
        },
        "id": "wtX1eFxPVikD",
        "outputId": "94035b9c-0de4-4f2e-85cc-ea58d82c3b3d"
      },
      "execution_count": null,
      "outputs": [
        {
          "output_type": "execute_result",
          "data": {
            "text/plain": [
              "0.13302406799773742"
            ]
          },
          "metadata": {},
          "execution_count": 17
        }
      ]
    },
    {
      "cell_type": "code",
      "source": [
        "ci_z"
      ],
      "metadata": {
        "colab": {
          "base_uri": "https://localhost:8080/"
        },
        "id": "C2REnxHpVlGv",
        "outputId": "b9598d12-f036-4c25-be41-448145e6ab25"
      },
      "execution_count": null,
      "outputs": [
        {
          "output_type": "execute_result",
          "data": {
            "text/plain": [
              "(1.105642598668929, 1.371690734664404)"
            ]
          },
          "metadata": {},
          "execution_count": 18
        }
      ]
    },
    {
      "cell_type": "code",
      "source": [],
      "metadata": {
        "id": "3d9d2QzPVnEO"
      },
      "execution_count": null,
      "outputs": []
    }
  ]
}